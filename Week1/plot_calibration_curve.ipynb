{
 "cells": [
  {
   "cell_type": "code",
   "execution_count": null,
   "metadata": {},
   "outputs": [],
   "source": [
    "%matplotlib inline"
   ]
  },
  {
   "cell_type": "markdown",
   "metadata": {},
   "source": [
    "\n",
    "# Probability Calibration curves\n",
    "\n",
    "When performing classification one often wants to predict not only the class\n",
    "label, but also the associated probability. This probability gives some\n",
    "kind of confidence on the prediction. This example demonstrates how to display\n",
    "how well calibrated the predicted probabilities are and how to calibrate an\n",
    "uncalibrated classifier.\n",
    "\n",
    "The experiment is performed on an artificial dataset for binary classification\n",
    "with 100,000 samples (1,000 of them are used for model fitting) with 20\n",
    "features. Of the 20 features, only 2 are informative and 10 are redundant. The\n",
    "first figure shows the estimated probabilities obtained with logistic\n",
    "regression, Gaussian naive Bayes, and Gaussian naive Bayes with both isotonic\n",
    "calibration and sigmoid calibration. The calibration performance is evaluated\n",
    "with Brier score, reported in the legend (the smaller the better). One can\n",
    "observe here that logistic regression is well calibrated while raw Gaussian\n",
    "naive Bayes performs very badly. This is because of the redundant features\n",
    "which violate the assumption of feature-independence and result in an overly\n",
    "confident classifier, which is indicated by the typical transposed-sigmoid\n",
    "curve.\n",
    "\n",
    "Calibration of the probabilities of Gaussian naive Bayes with isotonic\n",
    "regression can fix this issue as can be seen from the nearly diagonal\n",
    "calibration curve. Sigmoid calibration also improves the brier score slightly,\n",
    "albeit not as strongly as the non-parametric isotonic regression. This can be\n",
    "attributed to the fact that we have plenty of calibration data such that the\n",
    "greater flexibility of the non-parametric model can be exploited.\n",
    "\n",
    "The second figure shows the calibration curve of a linear support-vector\n",
    "classifier (LinearSVC). LinearSVC shows the opposite behavior as Gaussian\n",
    "naive Bayes: the calibration curve has a sigmoid curve, which is typical for\n",
    "an under-confident classifier. In the case of LinearSVC, this is caused by the\n",
    "margin property of the hinge loss, which lets the model focus on hard samples\n",
    "that are close to the decision boundary (the support vectors).\n",
    "\n",
    "Both kinds of calibration can fix this issue and yield nearly identical\n",
    "results. This shows that sigmoid calibration can deal with situations where\n",
    "the calibration curve of the base classifier is sigmoid (e.g., for LinearSVC)\n",
    "but not where it is transposed-sigmoid (e.g., Gaussian naive Bayes).\n"
   ]
  },
  {
   "cell_type": "code",
   "execution_count": 1,
   "metadata": {},
   "outputs": [
    {
     "name": "stdout",
     "output_type": "stream",
     "text": [
      "Automatically created module for IPython interactive environment\n"
     ]
    }
   ],
   "source": [
    "print(__doc__)\n",
    "\n",
    "# Author: Alexandre Gramfort <alexandre.gramfort@telecom-paristech.fr>\n",
    "#         Jan Hendrik Metzen <jhm@informatik.uni-bremen.de>\n",
    "# License: BSD Style.\n",
    "import numpy as np\n",
    "import pandas as pd\n",
    "\n",
    "import matplotlib.pyplot as plt\n",
    "\n",
    "from sklearn import datasets\n",
    "from sklearn.naive_bayes import GaussianNB\n",
    "from sklearn.svm import LinearSVC\n",
    "from sklearn.linear_model import LogisticRegression\n",
    "from sklearn.linear_model import LinearRegression\n",
    "from sklearn.metrics import (brier_score_loss, precision_score, recall_score,\n",
    "                             f1_score)\n",
    "from sklearn.calibration import CalibratedClassifierCV, calibration_curve\n",
    "from sklearn.model_selection import train_test_split\n",
    "\n",
    "\n",
    "# Create dataset of classification task with many redundant and few\n",
    "# informative features\n",
    "#X, y = datasets.make_classification(n_samples=100000, n_features=20,\n",
    "                                    #n_informative=2, n_redundant=10,\n",
    "                                    #random_state=42)\n",
    "\n",
    "df = pd.read_csv(r\"C:\\Users\\sarah\\OneDrive\\Desktop\\Desktop\\ML\\(1)\\git\\AppliedML2021\\Week1\\AlephBtag_MC_small_v1.csv\")"
   ]
  },
  {
   "cell_type": "code",
   "execution_count": 2,
   "metadata": {},
   "outputs": [
    {
     "name": "stdout",
     "output_type": "stream",
     "text": [
      "<bound method NDFrame.head of        energy   cTheta  phi     prob_b  spheri  pt2rel  multip  bqvjet  ptlrel  nnbjet isb\n",
      "0       46.8299  0.3871  0.8528  0.0327  0.2105  0.03...                                  \n",
      "1       45.6397 -0.3943 -2.2817  0.0035  0.3457  0.03...                                  \n",
      "2       48.8960 -0.4613 -0.6139  0.0649  0.0872  0.02...                                  \n",
      "3       39.1577  0.4668  2.4818  0.0027  0.1570  0.01...                                  \n",
      "4       43.7354 -0.7642  1.7872  0.4320  0.4873  0.05...                                  \n",
      "...                                                  ...                                  \n",
      "33963   40.6439  0.0275 -3.1126  0.2631  0.0994  0.05...                                  \n",
      "33964   36.9879  0.0030  0.1136  0.0472  0.6663  0.08...                                  \n",
      "33965   41.9806  0.6540 -1.6812  0.0150  0.2012  0.05...                                  \n",
      "33966   33.6217 -0.6719  1.4938  0.1025  0.6093  0.04...                                  \n",
      "33967   46.2623  0.7081  3.0033  0.0038  0.5634  0.09...                                  \n",
      "\n",
      "[33968 rows x 1 columns]>\n"
     ]
    }
   ],
   "source": [
    "print(df.head)"
   ]
  },
  {
   "cell_type": "code",
   "execution_count": 5,
   "metadata": {},
   "outputs": [
    {
     "ename": "SyntaxError",
     "evalue": "invalid syntax (<ipython-input-5-713446b5ca54>, line 27)",
     "output_type": "error",
     "traceback": [
      "\u001b[1;36m  File \u001b[1;32m\"<ipython-input-5-713446b5ca54>\"\u001b[1;36m, line \u001b[1;32m27\u001b[0m\n\u001b[1;33m    X, y = pd.read_csv(r\"C:\\Users\\sarah\\OneDrive\\Desktop\\Desktop\\ML\\(1)\\git\\AppliedML2021\\Week1\\AlephBtag_MC_small_v1.csv\")\u001b[0m\n\u001b[1;37m    ^\u001b[0m\n\u001b[1;31mSyntaxError\u001b[0m\u001b[1;31m:\u001b[0m invalid syntax\n"
     ]
    }
   ],
   "source": [
    "X, y = pd.read_csv(r\"C:\\Users\\sarah\\OneDrive\\Desktop\\Desktop\\ML\\(1)\\git\\AppliedML2021\\Week1\\AlephBtag_MC_small_v1.csv\")\n",
    "\n",
    "X_train, X_test, y_train, y_test = train_test_split(X, y, test_size=0.99,\n",
    "                                                    random_state=42)\n",
    "\n",
    "\n",
    "def plot_calibration_curve(est, name, fig_index):\n",
    "    \"\"\"Plot calibration curve for est w/o and with calibration. \"\"\"\n",
    "    # Calibrated with isotonic calibration\n",
    "    isotonic = CalibratedClassifierCV(est, cv=2, method='isotonic')\n",
    "\n",
    "    # Calibrated with sigmoid calibration\n",
    "    sigmoid = CalibratedClassifierCV(est, cv=2, method='sigmoid')\n",
    "\n",
    "    # Logistic regression with no calibration as baseline\n",
    "    lr = LogisticRegression(C=1.)\n",
    "\n",
    "    fig = plt.figure(fig_index, figsize=(10, 10))\n",
    "    ax1 = plt.subplot2grid((3, 1), (0, 0), rowspan=2)\n",
    "    ax2 = plt.subplot2grid((3, 1), (2, 0))\n",
    "\n",
    "    ax1.plot([0, 1], [0, 1], \"k:\", label=\"Perfectly calibrated\")\n",
    "    for clf, name in [(lr, 'Logistic'),(est, name),(isotonic, name + ' + Isotonic'),(sigmoid, name + ' + Sigmoid')]:\n",
    "        clf.fit(X_train, y_train)\n",
    "        y_pred = clf.predict(X_test)\n",
    "        if hasattr(clf, \"predict_proba\"):\n",
    "            prob_pos = clf.predict_proba(X_test)[:, 1]\n",
    "        else:  # use decision function\n",
    "            prob_pos = clf.decision_function(X_test)\n",
    "            prob_pos = \\\n",
    "                (prob_pos - prob_pos.min()) / (prob_pos.max() - prob_pos.min())\n",
    "\n",
    "        clf_score = brier_score_loss(y_test, prob_pos, pos_label=y.max())\n",
    "        print(\"%s:\" % name)\n",
    "        print(\"\\tBrier: %1.3f\" % (clf_score))\n",
    "        print(\"\\tPrecision: %1.3f\" % precision_score(y_test, y_pred))\n",
    "        print(\"\\tRecall: %1.3f\" % recall_score(y_test, y_pred))\n",
    "        print(\"\\tF1: %1.3f\\n\" % f1_score(y_test, y_pred))\n",
    "\n",
    "        fraction_of_positives, mean_predicted_value = \\\n",
    "            calibration_curve(y_test, prob_pos, n_bins=10)\n",
    "\n",
    "        ax1.plot(mean_predicted_value, fraction_of_positives, \"s-\",label=\"%s (%1.3f)\" % (name, clf_score))\n",
    "\n",
    "        ax2.hist(prob_pos, range=(0, 1), bins=10, label=name, histtype=\"step\", lw=2)\n",
    "\n",
    "    ax1.set_ylabel(\"Fraction of positives\")\n",
    "    ax1.set_ylim([-0.05, 1.05])\n",
    "    ax1.legend(loc=\"lower right\")\n",
    "    ax1.set_title('Calibration plots  (reliability curve)')\n",
    "\n",
    "    ax2.set_xlabel(\"Mean predicted value\")\n",
    "    ax2.set_ylabel(\"Count\")\n",
    "    ax2.legend(loc=\"upper center\", ncol=2)\n",
    "\n",
    "    plt.tight_layout()\n",
    "\n",
    "# Plot calibration curve for Gaussian Naive Bayes\n",
    "plot_calibration_curve(GaussianNB(), \"Naive Bayes\", 1)\n",
    "\n",
    "# Plot calibration curve for Linear SVC\n",
    "plot_calibration_curve(LinearSVC(max_iter=10000), \"SVC\", 2)\n",
    "\n",
    "plt.show()"
   ]
  },
  {
   "cell_type": "code",
   "execution_count": null,
   "metadata": {},
   "outputs": [],
   "source": []
  }
 ],
 "metadata": {
  "kernelspec": {
   "display_name": "Python 3",
   "language": "python",
   "name": "python3"
  },
  "language_info": {
   "codemirror_mode": {
    "name": "ipython",
    "version": 3
   },
   "file_extension": ".py",
   "mimetype": "text/x-python",
   "name": "python",
   "nbconvert_exporter": "python",
   "pygments_lexer": "ipython3",
   "version": "3.6.13"
  }
 },
 "nbformat": 4,
 "nbformat_minor": 1
}
